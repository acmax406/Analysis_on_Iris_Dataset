{
  "nbformat": 4,
  "nbformat_minor": 0,
  "metadata": {
    "colab": {
      "provenance": []
    },
    "kernelspec": {
      "name": "python3",
      "display_name": "Python 3"
    },
    "language_info": {
      "name": "python"
    }
  },
  "cells": [
    {
      "cell_type": "markdown",
      "source": [
        "**Anand Chuahan**\n",
        "</br>\n",
        "**Coding Assignment**\n",
        "</br>\n",
        "Mathematical Foundation of Data Science"
      ],
      "metadata": {
        "id": "F5zQaiuLSoqg"
      }
    },
    {
      "cell_type": "markdown",
      "source": [
        "Consider a data matrix $X_{n×k}$. Either you need to simulate it or use some\n",
        "real life datafile from internet. Your dataset should have numerical variables\n",
        "only. Write down a program for k-means cluster analysis algorithm. Set a\n",
        "threshold to stop if convergence is not achieved. Your program should have\n",
        "the option to specify k (number of clusters) as parameter. Report summary\n",
        "statistics (number of observations, mean and variance) for each cluster"
      ],
      "metadata": {
        "id": "ykp50yG1igjQ"
      }
    },
    {
      "cell_type": "code",
      "execution_count": null,
      "metadata": {
        "id": "LF1-4xZJib2j"
      },
      "outputs": [],
      "source": [
        "import pandas as pd"
      ]
    },
    {
      "cell_type": "code",
      "source": [
        "data = pd.read_csv(\"/content/drive/MyDrive/Data_science/Iris.csv\",header = None)\n",
        "data.head()"
      ],
      "metadata": {
        "colab": {
          "base_uri": "https://localhost:8080/",
          "height": 206
        },
        "id": "J8dEUCLSjUq_",
        "outputId": "5de3f84d-c269-4b5a-ccaa-040c4bd53c2e"
      },
      "execution_count": null,
      "outputs": [
        {
          "output_type": "execute_result",
          "data": {
            "text/plain": [
              "    0              1             2              3             4            5\n",
              "0  Id  SepalLengthCm  SepalWidthCm  PetalLengthCm  PetalWidthCm      Species\n",
              "1   1            5.1           3.5            1.4           0.2  Iris-setosa\n",
              "2   2            4.9           3.0            1.4           0.2  Iris-setosa\n",
              "3   3            4.7           3.2            1.3           0.2  Iris-setosa\n",
              "4   4            4.6           3.1            1.5           0.2  Iris-setosa"
            ],
            "text/html": [
              "\n",
              "\n",
              "  <div id=\"df-c179bc2c-35a3-41cc-92a3-3985dceb3c36\">\n",
              "    <div class=\"colab-df-container\">\n",
              "      <div>\n",
              "<style scoped>\n",
              "    .dataframe tbody tr th:only-of-type {\n",
              "        vertical-align: middle;\n",
              "    }\n",
              "\n",
              "    .dataframe tbody tr th {\n",
              "        vertical-align: top;\n",
              "    }\n",
              "\n",
              "    .dataframe thead th {\n",
              "        text-align: right;\n",
              "    }\n",
              "</style>\n",
              "<table border=\"1\" class=\"dataframe\">\n",
              "  <thead>\n",
              "    <tr style=\"text-align: right;\">\n",
              "      <th></th>\n",
              "      <th>0</th>\n",
              "      <th>1</th>\n",
              "      <th>2</th>\n",
              "      <th>3</th>\n",
              "      <th>4</th>\n",
              "      <th>5</th>\n",
              "    </tr>\n",
              "  </thead>\n",
              "  <tbody>\n",
              "    <tr>\n",
              "      <th>0</th>\n",
              "      <td>Id</td>\n",
              "      <td>SepalLengthCm</td>\n",
              "      <td>SepalWidthCm</td>\n",
              "      <td>PetalLengthCm</td>\n",
              "      <td>PetalWidthCm</td>\n",
              "      <td>Species</td>\n",
              "    </tr>\n",
              "    <tr>\n",
              "      <th>1</th>\n",
              "      <td>1</td>\n",
              "      <td>5.1</td>\n",
              "      <td>3.5</td>\n",
              "      <td>1.4</td>\n",
              "      <td>0.2</td>\n",
              "      <td>Iris-setosa</td>\n",
              "    </tr>\n",
              "    <tr>\n",
              "      <th>2</th>\n",
              "      <td>2</td>\n",
              "      <td>4.9</td>\n",
              "      <td>3.0</td>\n",
              "      <td>1.4</td>\n",
              "      <td>0.2</td>\n",
              "      <td>Iris-setosa</td>\n",
              "    </tr>\n",
              "    <tr>\n",
              "      <th>3</th>\n",
              "      <td>3</td>\n",
              "      <td>4.7</td>\n",
              "      <td>3.2</td>\n",
              "      <td>1.3</td>\n",
              "      <td>0.2</td>\n",
              "      <td>Iris-setosa</td>\n",
              "    </tr>\n",
              "    <tr>\n",
              "      <th>4</th>\n",
              "      <td>4</td>\n",
              "      <td>4.6</td>\n",
              "      <td>3.1</td>\n",
              "      <td>1.5</td>\n",
              "      <td>0.2</td>\n",
              "      <td>Iris-setosa</td>\n",
              "    </tr>\n",
              "  </tbody>\n",
              "</table>\n",
              "</div>\n",
              "      <button class=\"colab-df-convert\" onclick=\"convertToInteractive('df-c179bc2c-35a3-41cc-92a3-3985dceb3c36')\"\n",
              "              title=\"Convert this dataframe to an interactive table.\"\n",
              "              style=\"display:none;\">\n",
              "\n",
              "  <svg xmlns=\"http://www.w3.org/2000/svg\" height=\"24px\"viewBox=\"0 0 24 24\"\n",
              "       width=\"24px\">\n",
              "    <path d=\"M0 0h24v24H0V0z\" fill=\"none\"/>\n",
              "    <path d=\"M18.56 5.44l.94 2.06.94-2.06 2.06-.94-2.06-.94-.94-2.06-.94 2.06-2.06.94zm-11 1L8.5 8.5l.94-2.06 2.06-.94-2.06-.94L8.5 2.5l-.94 2.06-2.06.94zm10 10l.94 2.06.94-2.06 2.06-.94-2.06-.94-.94-2.06-.94 2.06-2.06.94z\"/><path d=\"M17.41 7.96l-1.37-1.37c-.4-.4-.92-.59-1.43-.59-.52 0-1.04.2-1.43.59L10.3 9.45l-7.72 7.72c-.78.78-.78 2.05 0 2.83L4 21.41c.39.39.9.59 1.41.59.51 0 1.02-.2 1.41-.59l7.78-7.78 2.81-2.81c.8-.78.8-2.07 0-2.86zM5.41 20L4 18.59l7.72-7.72 1.47 1.35L5.41 20z\"/>\n",
              "  </svg>\n",
              "      </button>\n",
              "\n",
              "\n",
              "\n",
              "    <div id=\"df-4abcca36-01b5-4281-9c82-067b04ec4372\">\n",
              "      <button class=\"colab-df-quickchart\" onclick=\"quickchart('df-4abcca36-01b5-4281-9c82-067b04ec4372')\"\n",
              "              title=\"Suggest charts.\"\n",
              "              style=\"display:none;\">\n",
              "\n",
              "<svg xmlns=\"http://www.w3.org/2000/svg\" height=\"24px\"viewBox=\"0 0 24 24\"\n",
              "     width=\"24px\">\n",
              "    <g>\n",
              "        <path d=\"M19 3H5c-1.1 0-2 .9-2 2v14c0 1.1.9 2 2 2h14c1.1 0 2-.9 2-2V5c0-1.1-.9-2-2-2zM9 17H7v-7h2v7zm4 0h-2V7h2v10zm4 0h-2v-4h2v4z\"/>\n",
              "    </g>\n",
              "</svg>\n",
              "      </button>\n",
              "    </div>\n",
              "\n",
              "<style>\n",
              "  .colab-df-quickchart {\n",
              "    background-color: #E8F0FE;\n",
              "    border: none;\n",
              "    border-radius: 50%;\n",
              "    cursor: pointer;\n",
              "    display: none;\n",
              "    fill: #1967D2;\n",
              "    height: 32px;\n",
              "    padding: 0 0 0 0;\n",
              "    width: 32px;\n",
              "  }\n",
              "\n",
              "  .colab-df-quickchart:hover {\n",
              "    background-color: #E2EBFA;\n",
              "    box-shadow: 0px 1px 2px rgba(60, 64, 67, 0.3), 0px 1px 3px 1px rgba(60, 64, 67, 0.15);\n",
              "    fill: #174EA6;\n",
              "  }\n",
              "\n",
              "  [theme=dark] .colab-df-quickchart {\n",
              "    background-color: #3B4455;\n",
              "    fill: #D2E3FC;\n",
              "  }\n",
              "\n",
              "  [theme=dark] .colab-df-quickchart:hover {\n",
              "    background-color: #434B5C;\n",
              "    box-shadow: 0px 1px 3px 1px rgba(0, 0, 0, 0.15);\n",
              "    filter: drop-shadow(0px 1px 2px rgba(0, 0, 0, 0.3));\n",
              "    fill: #FFFFFF;\n",
              "  }\n",
              "</style>\n",
              "\n",
              "    <script>\n",
              "      async function quickchart(key) {\n",
              "        const containerElement = document.querySelector('#' + key);\n",
              "        const charts = await google.colab.kernel.invokeFunction(\n",
              "            'suggestCharts', [key], {});\n",
              "      }\n",
              "    </script>\n",
              "\n",
              "      <script>\n",
              "\n",
              "function displayQuickchartButton(domScope) {\n",
              "  let quickchartButtonEl =\n",
              "    domScope.querySelector('#df-4abcca36-01b5-4281-9c82-067b04ec4372 button.colab-df-quickchart');\n",
              "  quickchartButtonEl.style.display =\n",
              "    google.colab.kernel.accessAllowed ? 'block' : 'none';\n",
              "}\n",
              "\n",
              "        displayQuickchartButton(document);\n",
              "      </script>\n",
              "      <style>\n",
              "    .colab-df-container {\n",
              "      display:flex;\n",
              "      flex-wrap:wrap;\n",
              "      gap: 12px;\n",
              "    }\n",
              "\n",
              "    .colab-df-convert {\n",
              "      background-color: #E8F0FE;\n",
              "      border: none;\n",
              "      border-radius: 50%;\n",
              "      cursor: pointer;\n",
              "      display: none;\n",
              "      fill: #1967D2;\n",
              "      height: 32px;\n",
              "      padding: 0 0 0 0;\n",
              "      width: 32px;\n",
              "    }\n",
              "\n",
              "    .colab-df-convert:hover {\n",
              "      background-color: #E2EBFA;\n",
              "      box-shadow: 0px 1px 2px rgba(60, 64, 67, 0.3), 0px 1px 3px 1px rgba(60, 64, 67, 0.15);\n",
              "      fill: #174EA6;\n",
              "    }\n",
              "\n",
              "    [theme=dark] .colab-df-convert {\n",
              "      background-color: #3B4455;\n",
              "      fill: #D2E3FC;\n",
              "    }\n",
              "\n",
              "    [theme=dark] .colab-df-convert:hover {\n",
              "      background-color: #434B5C;\n",
              "      box-shadow: 0px 1px 3px 1px rgba(0, 0, 0, 0.15);\n",
              "      filter: drop-shadow(0px 1px 2px rgba(0, 0, 0, 0.3));\n",
              "      fill: #FFFFFF;\n",
              "    }\n",
              "  </style>\n",
              "\n",
              "      <script>\n",
              "        const buttonEl =\n",
              "          document.querySelector('#df-c179bc2c-35a3-41cc-92a3-3985dceb3c36 button.colab-df-convert');\n",
              "        buttonEl.style.display =\n",
              "          google.colab.kernel.accessAllowed ? 'block' : 'none';\n",
              "\n",
              "        async function convertToInteractive(key) {\n",
              "          const element = document.querySelector('#df-c179bc2c-35a3-41cc-92a3-3985dceb3c36');\n",
              "          const dataTable =\n",
              "            await google.colab.kernel.invokeFunction('convertToInteractive',\n",
              "                                                     [key], {});\n",
              "          if (!dataTable) return;\n",
              "\n",
              "          const docLinkHtml = 'Like what you see? Visit the ' +\n",
              "            '<a target=\"_blank\" href=https://colab.research.google.com/notebooks/data_table.ipynb>data table notebook</a>'\n",
              "            + ' to learn more about interactive tables.';\n",
              "          element.innerHTML = '';\n",
              "          dataTable['output_type'] = 'display_data';\n",
              "          await google.colab.output.renderOutput(dataTable, element);\n",
              "          const docLink = document.createElement('div');\n",
              "          docLink.innerHTML = docLinkHtml;\n",
              "          element.appendChild(docLink);\n",
              "        }\n",
              "      </script>\n",
              "    </div>\n",
              "  </div>\n"
            ]
          },
          "metadata": {},
          "execution_count": 327
        }
      ]
    },
    {
      "cell_type": "code",
      "source": [
        "data = data.iloc[:,1:5]\n",
        "data = data.iloc[1:,]\n"
      ],
      "metadata": {
        "id": "G4JWfEtV9A04"
      },
      "execution_count": null,
      "outputs": []
    },
    {
      "cell_type": "code",
      "source": [
        "data = data.values.tolist()"
      ],
      "metadata": {
        "id": "a4RMaXOw-z-_"
      },
      "execution_count": null,
      "outputs": []
    },
    {
      "cell_type": "code",
      "source": [
        "#converting each of the data elements into float\n",
        "for i in range(len(data)):\n",
        "    data[i] = [float(value) for value in data[i]]"
      ],
      "metadata": {
        "id": "Zl-nzLNf_i7u"
      },
      "execution_count": null,
      "outputs": []
    },
    {
      "cell_type": "code",
      "source": [
        "import random as rand\n",
        "import matplotlib.pyplot as plt\n",
        "import numpy as np\n",
        "import seaborn as sns"
      ],
      "metadata": {
        "id": "Vul2S-uO1Zlj"
      },
      "execution_count": null,
      "outputs": []
    },
    {
      "cell_type": "code",
      "source": [
        "#function to assign the datapoints to itss closest centroids\n",
        "def cluster(data,C):\n",
        "  asg = []  #store the cluster assignment for each of the data points\n",
        "\n",
        "  for x in data:\n",
        "    dist_ech_cluster = [] #store dist bw the current datapoint and each of the cluster(centroids)\n",
        "\n",
        "    for cent in C:\n",
        "      #clc and store the eucledian dist bw the current data point and current cluster\n",
        "      dist_clust = np.linalg.norm(np.array(x)-np.array(cent))\n",
        "      dist_ech_cluster.append(dist_clust)\n",
        "\n",
        "    #now finding the min distance of the cluster center from the data point and store to asg\n",
        "    min_cent_dist = np.argmin(dist_ech_cluster)\n",
        "    asg.append(min_cent_dist)\n",
        "\n",
        "  return asg\n"
      ],
      "metadata": {
        "id": "KZg9joWj0z2D"
      },
      "execution_count": null,
      "outputs": []
    },
    {
      "cell_type": "code",
      "source": [
        "#function to calculate the new centroid\n",
        "def new_cent(data, C, cluster_asg, k):\n",
        "  new_cent = []   #it will store the new cluster centers\n",
        "\n",
        "  for i in range(k):\n",
        "    clust_curr =[]    #store the datapoints belong to the current cluster with index i\n",
        "\n",
        "    for x in range(len(data)):\n",
        "      if cluster_asg[x] == i:           #if assignment of the current data point==current cluster index\n",
        "        clust_curr.append(data[x])      #stores all the data points belonging to the current clust\n",
        "\n",
        "    mean_clust = np.mean(clust_curr, axis = 0)    #taking the mean\n",
        "    new_cent.append(mean_clust)                   #appended to new_cent as new centroids\n",
        "\n",
        "  return new_cent\n",
        "\n",
        "\n"
      ],
      "metadata": {
        "id": "QIfE07udGBo3"
      },
      "execution_count": null,
      "outputs": []
    },
    {
      "cell_type": "code",
      "source": [
        "#function to calculate the sum of squared error\n",
        "def SSE(data, cluster_asg, C):\n",
        "  sq_error = []       #store the squared_error\n",
        "\n",
        "  for i in range(len(data)):\n",
        "    c = C[cluster_asg[i]]           #stores the centroid assigned to the current data point\n",
        "\n",
        "    error = np.linalg.norm(np.array(data[i])-np.array(c))  #calc the dist bw the current datapoint and its assigned centroid\n",
        "    sq_error.append(error**2)      #squaring and append in sq_error list\n",
        "\n",
        "  sse = sum(sq_error)\n",
        "\n",
        "  return sse\n"
      ],
      "metadata": {
        "id": "YQAIFEPCrm0p"
      },
      "execution_count": null,
      "outputs": []
    },
    {
      "cell_type": "code",
      "source": [
        "def cluster_statistics(data, cluster_asg, k):\n",
        "    cluster_stats = []\n",
        "\n",
        "    for i in range(k):\n",
        "        data_in_cluster = [data[j] for j in range(len(data)) if cluster_asg[j] == i]  # store data points belong to the current cluster with index i\n",
        "        num_observations = len(data_in_cluster)   #nos of observation in currenct clustr\n",
        "\n",
        "        if num_observations > 0:\n",
        "            mean_cluster = [sum(x) / num_observations for x in zip(*data_in_cluster)]      #calc the mean across all the dim\n",
        "            variance_cluster = [sum((x[i] - mean_cluster[i]) ** 2 for x in data_in_cluster) / num_observations for i in range(len(mean_cluster))]   #calc the variance across all the data points\n",
        "        else:\n",
        "            mean_cluster = [0] * len(data[0])\n",
        "            variance_cluster = [0] * len(data[0])\n",
        "        #storing all the values\n",
        "        cluster_stats.append({\n",
        "            'mean': mean_cluster,\n",
        "            'variance': variance_cluster,\n",
        "            'num_observations': num_observations\n",
        "        })\n",
        "\n",
        "    return cluster_stats"
      ],
      "metadata": {
        "id": "2DLjF_bGSLkM"
      },
      "execution_count": null,
      "outputs": []
    },
    {
      "cell_type": "code",
      "source": [
        "def k_means_cluster(data, k,):\n",
        "\n",
        "  tlrnc = pow(10,-3)    #tolrence level\n",
        "  max_itr = 100         #max iterations\n",
        "  current_itr = -1      #keep track of current iterations\n",
        "  error_sse = []        #store sum of square error at each iteration\n",
        "  cluster_asg = []      #store the cluster assignment for each of the data points\n",
        "\n",
        "  #assigning centroid randomly\n",
        "  C=[]\n",
        "  for i in range(k):\n",
        "    rand_c = data[rand.randint(0,149)]\n",
        "    C.append(rand_c)\n",
        "\n",
        "\n",
        "  while(len(error_sse) <= 1 or   # atleast loop runs for one time\n",
        "        (current_itr < max_itr   #check that the current itr is less than the max itr and successive SSE is under or equal to tolrence\n",
        "         and\n",
        "         np.absolute(error_sse[current_itr]- error_sse[current_itr -1])/error_sse[current_itr-1] >= tlrnc)):\n",
        "\n",
        "         current_itr = current_itr + 1\n",
        "\n",
        "         #assigning data points to the nearest cluster center\n",
        "         cluster_asg = cluster(data, C )\n",
        "\n",
        "         #calc the new centroids\n",
        "         C = new_cent(data, C, cluster_asg, k)\n",
        "\n",
        "         #calculating the sum of squared error\n",
        "         sse = SSE(data, cluster_asg, C)\n",
        "         error_sse.append(sse)\n",
        "\n",
        "         cls=cluster_statistics(data, cluster_asg, k)\n",
        "\n",
        "  return(cluster_asg, C, error_sse, current_itr,cls)\n",
        "\n",
        "\n"
      ],
      "metadata": {
        "id": "7rtXVHLu2oFn"
      },
      "execution_count": null,
      "outputs": []
    },
    {
      "cell_type": "markdown",
      "source": [
        "**Here you can specify the number of cluster**\n",
        "</br>\n",
        "*just change the value of k*"
      ],
      "metadata": {
        "id": "ZgB2WYWpS9w_"
      }
    },
    {
      "cell_type": "code",
      "source": [
        "# k = input(\"enter the k(number of cluster) value : \")\n",
        "result = k_means_cluster(data, k=3)"
      ],
      "metadata": {
        "id": "T4ftgziK1tKA"
      },
      "execution_count": null,
      "outputs": []
    },
    {
      "cell_type": "code",
      "source": [
        "result[1:]"
      ],
      "metadata": {
        "colab": {
          "base_uri": "https://localhost:8080/"
        },
        "id": "4c8LJBguWryw",
        "outputId": "257af854-2eee-4ed5-ee0f-cd22091fdcac"
      },
      "execution_count": null,
      "outputs": [
        {
          "output_type": "execute_result",
          "data": {
            "text/plain": [
              "([array([6.85384615, 3.07692308, 5.71538462, 2.05384615]),\n",
              "  array([5.88360656, 2.74098361, 4.38852459, 1.43442623]),\n",
              "  array([5.006, 3.418, 1.464, 0.244])],\n",
              " [115.88021060606059,\n",
              "  91.87466195426192,\n",
              "  86.11593143374044,\n",
              "  84.47725971685972,\n",
              "  83.60550954940061,\n",
              "  82.37141449275363,\n",
              "  81.36719999999997,\n",
              "  80.31574621578093,\n",
              "  79.68172190942474,\n",
              "  79.1155666666667,\n",
              "  78.94506582597724,\n",
              "  78.94506582597724],\n",
              " 11,\n",
              " [{'mean': [6.853846153846153,\n",
              "    3.0769230769230766,\n",
              "    5.715384615384615,\n",
              "    2.053846153846153],\n",
              "   'variance': [0.23222879684418146,\n",
              "    0.08023668639053251,\n",
              "    0.25360946745562135,\n",
              "    0.0855621301775148],\n",
              "   'num_observations': 39},\n",
              "  {'mean': [5.88360655737705,\n",
              "    2.740983606557377,\n",
              "    4.388524590163935,\n",
              "    1.4344262295081966],\n",
              "   'variance': [0.1974361730717547,\n",
              "    0.08438591776404195,\n",
              "    0.25740929857565176,\n",
              "    0.08848696586938995],\n",
              "   'num_observations': 61},\n",
              "  {'mean': [5.005999999999999, 3.4180000000000006, 1.464, 0.2439999999999999],\n",
              "   'variance': [0.12176399999999993,\n",
              "    0.142276,\n",
              "    0.02950400000000001,\n",
              "    0.011263999999999996],\n",
              "   'num_observations': 50}])"
            ]
          },
          "metadata": {},
          "execution_count": 353
        }
      ]
    },
    {
      "cell_type": "code",
      "source": [
        "# cluster statistics\n",
        "# mean, variance, and num_observations\n",
        "result[4]"
      ],
      "metadata": {
        "colab": {
          "base_uri": "https://localhost:8080/"
        },
        "id": "7XkaRFjET-WB",
        "outputId": "b3ebcd24-9699-4b8f-f3b3-a36c9895d9e9"
      },
      "execution_count": null,
      "outputs": [
        {
          "output_type": "execute_result",
          "data": {
            "text/plain": [
              "[{'mean': [6.853846153846153,\n",
              "   3.0769230769230766,\n",
              "   5.715384615384615,\n",
              "   2.053846153846153],\n",
              "  'variance': [0.23222879684418146,\n",
              "   0.08023668639053251,\n",
              "   0.25360946745562135,\n",
              "   0.0855621301775148],\n",
              "  'num_observations': 39},\n",
              " {'mean': [5.88360655737705,\n",
              "   2.740983606557377,\n",
              "   4.388524590163935,\n",
              "   1.4344262295081966],\n",
              "  'variance': [0.1974361730717547,\n",
              "   0.08438591776404195,\n",
              "   0.25740929857565176,\n",
              "   0.08848696586938995],\n",
              "  'num_observations': 61},\n",
              " {'mean': [5.005999999999999, 3.4180000000000006, 1.464, 0.2439999999999999],\n",
              "  'variance': [0.12176399999999993,\n",
              "   0.142276,\n",
              "   0.02950400000000001,\n",
              "   0.011263999999999996],\n",
              "  'num_observations': 50}]"
            ]
          },
          "metadata": {},
          "execution_count": 355
        }
      ]
    },
    {
      "cell_type": "code",
      "source": [
        "temp_data = pd.read_csv(\"/content/drive/MyDrive/Data_science/Iris.csv\")\n"
      ],
      "metadata": {
        "id": "WXj6BzKgNjDV"
      },
      "execution_count": null,
      "outputs": []
    },
    {
      "cell_type": "code",
      "source": [
        "centroid_x=[]\n",
        "for i in range(len(result[1])):\n",
        "  centroid_x.append(result[1][i][0])\n",
        "\n",
        "centroid_y=[]\n",
        "for x in range(len(result[1])):\n",
        "  centroid_y.append(result[1][x][2])\n",
        "\n",
        "\n",
        "print(centroid_x)\n",
        "print(centroid_y)"
      ],
      "metadata": {
        "colab": {
          "base_uri": "https://localhost:8080/"
        },
        "id": "_hdM7dL0kFPc",
        "outputId": "da43b344-f569-4ae5-ddaf-23760c4e67de"
      },
      "execution_count": null,
      "outputs": [
        {
          "output_type": "stream",
          "name": "stdout",
          "text": [
            "[6.853846153846153, 5.88360655737705, 5.005999999999999]\n",
            "[5.715384615384615, 4.388524590163935, 1.464]\n"
          ]
        }
      ]
    },
    {
      "cell_type": "code",
      "source": [
        "temp_data.head()"
      ],
      "metadata": {
        "colab": {
          "base_uri": "https://localhost:8080/",
          "height": 206
        },
        "id": "iF2OM_nNCaCw",
        "outputId": "055f8b59-cbfb-42cf-86f4-4e42f20a4f25"
      },
      "execution_count": null,
      "outputs": [
        {
          "output_type": "execute_result",
          "data": {
            "text/plain": [
              "   Id  SepalLengthCm  SepalWidthCm  PetalLengthCm  PetalWidthCm      Species\n",
              "0   1            5.1           3.5            1.4           0.2  Iris-setosa\n",
              "1   2            4.9           3.0            1.4           0.2  Iris-setosa\n",
              "2   3            4.7           3.2            1.3           0.2  Iris-setosa\n",
              "3   4            4.6           3.1            1.5           0.2  Iris-setosa\n",
              "4   5            5.0           3.6            1.4           0.2  Iris-setosa"
            ],
            "text/html": [
              "\n",
              "\n",
              "  <div id=\"df-7df7e749-28bd-482e-b97f-0c62f6eab50f\">\n",
              "    <div class=\"colab-df-container\">\n",
              "      <div>\n",
              "<style scoped>\n",
              "    .dataframe tbody tr th:only-of-type {\n",
              "        vertical-align: middle;\n",
              "    }\n",
              "\n",
              "    .dataframe tbody tr th {\n",
              "        vertical-align: top;\n",
              "    }\n",
              "\n",
              "    .dataframe thead th {\n",
              "        text-align: right;\n",
              "    }\n",
              "</style>\n",
              "<table border=\"1\" class=\"dataframe\">\n",
              "  <thead>\n",
              "    <tr style=\"text-align: right;\">\n",
              "      <th></th>\n",
              "      <th>Id</th>\n",
              "      <th>SepalLengthCm</th>\n",
              "      <th>SepalWidthCm</th>\n",
              "      <th>PetalLengthCm</th>\n",
              "      <th>PetalWidthCm</th>\n",
              "      <th>Species</th>\n",
              "    </tr>\n",
              "  </thead>\n",
              "  <tbody>\n",
              "    <tr>\n",
              "      <th>0</th>\n",
              "      <td>1</td>\n",
              "      <td>5.1</td>\n",
              "      <td>3.5</td>\n",
              "      <td>1.4</td>\n",
              "      <td>0.2</td>\n",
              "      <td>Iris-setosa</td>\n",
              "    </tr>\n",
              "    <tr>\n",
              "      <th>1</th>\n",
              "      <td>2</td>\n",
              "      <td>4.9</td>\n",
              "      <td>3.0</td>\n",
              "      <td>1.4</td>\n",
              "      <td>0.2</td>\n",
              "      <td>Iris-setosa</td>\n",
              "    </tr>\n",
              "    <tr>\n",
              "      <th>2</th>\n",
              "      <td>3</td>\n",
              "      <td>4.7</td>\n",
              "      <td>3.2</td>\n",
              "      <td>1.3</td>\n",
              "      <td>0.2</td>\n",
              "      <td>Iris-setosa</td>\n",
              "    </tr>\n",
              "    <tr>\n",
              "      <th>3</th>\n",
              "      <td>4</td>\n",
              "      <td>4.6</td>\n",
              "      <td>3.1</td>\n",
              "      <td>1.5</td>\n",
              "      <td>0.2</td>\n",
              "      <td>Iris-setosa</td>\n",
              "    </tr>\n",
              "    <tr>\n",
              "      <th>4</th>\n",
              "      <td>5</td>\n",
              "      <td>5.0</td>\n",
              "      <td>3.6</td>\n",
              "      <td>1.4</td>\n",
              "      <td>0.2</td>\n",
              "      <td>Iris-setosa</td>\n",
              "    </tr>\n",
              "  </tbody>\n",
              "</table>\n",
              "</div>\n",
              "      <button class=\"colab-df-convert\" onclick=\"convertToInteractive('df-7df7e749-28bd-482e-b97f-0c62f6eab50f')\"\n",
              "              title=\"Convert this dataframe to an interactive table.\"\n",
              "              style=\"display:none;\">\n",
              "\n",
              "  <svg xmlns=\"http://www.w3.org/2000/svg\" height=\"24px\"viewBox=\"0 0 24 24\"\n",
              "       width=\"24px\">\n",
              "    <path d=\"M0 0h24v24H0V0z\" fill=\"none\"/>\n",
              "    <path d=\"M18.56 5.44l.94 2.06.94-2.06 2.06-.94-2.06-.94-.94-2.06-.94 2.06-2.06.94zm-11 1L8.5 8.5l.94-2.06 2.06-.94-2.06-.94L8.5 2.5l-.94 2.06-2.06.94zm10 10l.94 2.06.94-2.06 2.06-.94-2.06-.94-.94-2.06-.94 2.06-2.06.94z\"/><path d=\"M17.41 7.96l-1.37-1.37c-.4-.4-.92-.59-1.43-.59-.52 0-1.04.2-1.43.59L10.3 9.45l-7.72 7.72c-.78.78-.78 2.05 0 2.83L4 21.41c.39.39.9.59 1.41.59.51 0 1.02-.2 1.41-.59l7.78-7.78 2.81-2.81c.8-.78.8-2.07 0-2.86zM5.41 20L4 18.59l7.72-7.72 1.47 1.35L5.41 20z\"/>\n",
              "  </svg>\n",
              "      </button>\n",
              "\n",
              "\n",
              "\n",
              "    <div id=\"df-c6c69564-7e9d-4359-8119-0b3f00d94b33\">\n",
              "      <button class=\"colab-df-quickchart\" onclick=\"quickchart('df-c6c69564-7e9d-4359-8119-0b3f00d94b33')\"\n",
              "              title=\"Suggest charts.\"\n",
              "              style=\"display:none;\">\n",
              "\n",
              "<svg xmlns=\"http://www.w3.org/2000/svg\" height=\"24px\"viewBox=\"0 0 24 24\"\n",
              "     width=\"24px\">\n",
              "    <g>\n",
              "        <path d=\"M19 3H5c-1.1 0-2 .9-2 2v14c0 1.1.9 2 2 2h14c1.1 0 2-.9 2-2V5c0-1.1-.9-2-2-2zM9 17H7v-7h2v7zm4 0h-2V7h2v10zm4 0h-2v-4h2v4z\"/>\n",
              "    </g>\n",
              "</svg>\n",
              "      </button>\n",
              "    </div>\n",
              "\n",
              "<style>\n",
              "  .colab-df-quickchart {\n",
              "    background-color: #E8F0FE;\n",
              "    border: none;\n",
              "    border-radius: 50%;\n",
              "    cursor: pointer;\n",
              "    display: none;\n",
              "    fill: #1967D2;\n",
              "    height: 32px;\n",
              "    padding: 0 0 0 0;\n",
              "    width: 32px;\n",
              "  }\n",
              "\n",
              "  .colab-df-quickchart:hover {\n",
              "    background-color: #E2EBFA;\n",
              "    box-shadow: 0px 1px 2px rgba(60, 64, 67, 0.3), 0px 1px 3px 1px rgba(60, 64, 67, 0.15);\n",
              "    fill: #174EA6;\n",
              "  }\n",
              "\n",
              "  [theme=dark] .colab-df-quickchart {\n",
              "    background-color: #3B4455;\n",
              "    fill: #D2E3FC;\n",
              "  }\n",
              "\n",
              "  [theme=dark] .colab-df-quickchart:hover {\n",
              "    background-color: #434B5C;\n",
              "    box-shadow: 0px 1px 3px 1px rgba(0, 0, 0, 0.15);\n",
              "    filter: drop-shadow(0px 1px 2px rgba(0, 0, 0, 0.3));\n",
              "    fill: #FFFFFF;\n",
              "  }\n",
              "</style>\n",
              "\n",
              "    <script>\n",
              "      async function quickchart(key) {\n",
              "        const containerElement = document.querySelector('#' + key);\n",
              "        const charts = await google.colab.kernel.invokeFunction(\n",
              "            'suggestCharts', [key], {});\n",
              "      }\n",
              "    </script>\n",
              "\n",
              "      <script>\n",
              "\n",
              "function displayQuickchartButton(domScope) {\n",
              "  let quickchartButtonEl =\n",
              "    domScope.querySelector('#df-c6c69564-7e9d-4359-8119-0b3f00d94b33 button.colab-df-quickchart');\n",
              "  quickchartButtonEl.style.display =\n",
              "    google.colab.kernel.accessAllowed ? 'block' : 'none';\n",
              "}\n",
              "\n",
              "        displayQuickchartButton(document);\n",
              "      </script>\n",
              "      <style>\n",
              "    .colab-df-container {\n",
              "      display:flex;\n",
              "      flex-wrap:wrap;\n",
              "      gap: 12px;\n",
              "    }\n",
              "\n",
              "    .colab-df-convert {\n",
              "      background-color: #E8F0FE;\n",
              "      border: none;\n",
              "      border-radius: 50%;\n",
              "      cursor: pointer;\n",
              "      display: none;\n",
              "      fill: #1967D2;\n",
              "      height: 32px;\n",
              "      padding: 0 0 0 0;\n",
              "      width: 32px;\n",
              "    }\n",
              "\n",
              "    .colab-df-convert:hover {\n",
              "      background-color: #E2EBFA;\n",
              "      box-shadow: 0px 1px 2px rgba(60, 64, 67, 0.3), 0px 1px 3px 1px rgba(60, 64, 67, 0.15);\n",
              "      fill: #174EA6;\n",
              "    }\n",
              "\n",
              "    [theme=dark] .colab-df-convert {\n",
              "      background-color: #3B4455;\n",
              "      fill: #D2E3FC;\n",
              "    }\n",
              "\n",
              "    [theme=dark] .colab-df-convert:hover {\n",
              "      background-color: #434B5C;\n",
              "      box-shadow: 0px 1px 3px 1px rgba(0, 0, 0, 0.15);\n",
              "      filter: drop-shadow(0px 1px 2px rgba(0, 0, 0, 0.3));\n",
              "      fill: #FFFFFF;\n",
              "    }\n",
              "  </style>\n",
              "\n",
              "      <script>\n",
              "        const buttonEl =\n",
              "          document.querySelector('#df-7df7e749-28bd-482e-b97f-0c62f6eab50f button.colab-df-convert');\n",
              "        buttonEl.style.display =\n",
              "          google.colab.kernel.accessAllowed ? 'block' : 'none';\n",
              "\n",
              "        async function convertToInteractive(key) {\n",
              "          const element = document.querySelector('#df-7df7e749-28bd-482e-b97f-0c62f6eab50f');\n",
              "          const dataTable =\n",
              "            await google.colab.kernel.invokeFunction('convertToInteractive',\n",
              "                                                     [key], {});\n",
              "          if (!dataTable) return;\n",
              "\n",
              "          const docLinkHtml = 'Like what you see? Visit the ' +\n",
              "            '<a target=\"_blank\" href=https://colab.research.google.com/notebooks/data_table.ipynb>data table notebook</a>'\n",
              "            + ' to learn more about interactive tables.';\n",
              "          element.innerHTML = '';\n",
              "          dataTable['output_type'] = 'display_data';\n",
              "          await google.colab.output.renderOutput(dataTable, element);\n",
              "          const docLink = document.createElement('div');\n",
              "          docLink.innerHTML = docLinkHtml;\n",
              "          element.appendChild(docLink);\n",
              "        }\n",
              "      </script>\n",
              "    </div>\n",
              "  </div>\n"
            ]
          },
          "metadata": {},
          "execution_count": 358
        }
      ]
    },
    {
      "cell_type": "code",
      "source": [
        "x = temp_data['SepalLengthCm']\n",
        "y = temp_data['PetalLengthCm']\n",
        "asg = result[0]"
      ],
      "metadata": {
        "id": "jCvkiRRANsv1"
      },
      "execution_count": null,
      "outputs": []
    },
    {
      "cell_type": "code",
      "source": [
        "# Create a scatter plot using Seaborn\n",
        "sns.scatterplot(x= x, y= y, hue=asg)\n",
        "\n",
        "custom_palette = sns.color_palette(\"Set3\", n_colors=len(set(asg)))\n",
        "\n",
        "# Plot centroids using Seaborn\n",
        "sns.scatterplot(x= centroid_x, y=centroid_y, color='red', marker='.', s=200)\n",
        "\n",
        "plt.title(\"K-means Visualization\")\n",
        "plt.xlabel(\"sepal_length\")\n",
        "plt.ylabel(\"petal_length\")\n",
        "plt.show()"
      ],
      "metadata": {
        "colab": {
          "base_uri": "https://localhost:8080/",
          "height": 472
        },
        "id": "sAnLewAcld28",
        "outputId": "b9cf184c-95f6-47d7-e982-53606e1a8f35"
      },
      "execution_count": null,
      "outputs": [
        {
          "output_type": "display_data",
          "data": {
            "text/plain": [
              "<Figure size 640x480 with 1 Axes>"
            ],
            "image/png": "[encoded data removed]"
          },
          "metadata": {}
        }
      ]
    }
  ]
}